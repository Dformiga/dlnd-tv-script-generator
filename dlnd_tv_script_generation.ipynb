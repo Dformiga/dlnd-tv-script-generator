{
 "cells": [
  {
   "cell_type": "markdown",
   "metadata": {
    "deletable": true,
    "editable": true
   },
   "source": [
    "# TV Script Generation\n",
    "In this project, you'll generate your own [Simpsons](https://en.wikipedia.org/wiki/The_Simpsons) TV scripts using RNNs.  You'll be using part of the [Simpsons dataset](https://www.kaggle.com/wcukierski/the-simpsons-by-the-data) of scripts from 27 seasons.  The Neural Network you'll build will generate a new TV script for a scene at [Moe's Tavern](https://simpsonswiki.com/wiki/Moe's_Tavern).\n",
    "## Get the Data\n",
    "The data is already provided for you.  You'll be using a subset of the original dataset.  It consists of only the scenes in Moe's Tavern.  This doesn't include other versions of the tavern, like \"Moe's Cavern\", \"Flaming Moe's\", \"Uncle Moe's Family Feed-Bag\", etc.."
   ]
  },
  {
   "cell_type": "code",
   "execution_count": 117,
   "metadata": {
    "collapsed": true
   },
   "outputs": [],
   "source": [
    "# Deep Learning Foundation Course\n",
    "# Author: Daniel Abrantes Formiga"
   ]
  },
  {
   "cell_type": "code",
   "execution_count": 65,
   "metadata": {
    "collapsed": true,
    "deletable": true,
    "editable": true
   },
   "outputs": [],
   "source": [
    "\"\"\"\n",
    "DON'T MODIFY ANYTHING IN THIS CELL\n",
    "\"\"\"\n",
    "import helper\n",
    "\n",
    "data_dir = './data/simpsons/moes_tavern_lines.txt'\n",
    "text = helper.load_data(data_dir)\n",
    "\n",
    "# Ignore notice, since we don't use it for analysing the data\n",
    "text = text[81:]"
   ]
  },
  {
   "cell_type": "markdown",
   "metadata": {
    "deletable": true,
    "editable": true
   },
   "source": [
    "## Explore the Data\n",
    "Play around with `view_sentence_range` to view different parts of the data."
   ]
  },
  {
   "cell_type": "code",
   "execution_count": 66,
   "metadata": {
    "collapsed": false,
    "deletable": true,
    "editable": true
   },
   "outputs": [
    {
     "name": "stdout",
     "output_type": "stream",
     "text": [
      "Dataset Stats\n",
      "Roughly the number of unique words: 11492\n",
      "Number of scenes: 262\n",
      "Average number of sentences in each scene: 15.248091603053435\n",
      "Number of lines: 4257\n",
      "Average number of words in each line: 11.50434578341555\n",
      "\n",
      "The sentences 100 to 200:\n",
      "Barney_Gumble: Wow, it really works.\n",
      "HARV: (CHUCKLING) I'll be back.\n",
      "Homer_Simpson: Moe, I haven't seen the place this crowded since the government cracked down on you for accepting food stamps. Do you think my drink had something to do with it?\n",
      "Moe_Szyslak: Who can say? It's probably a combination of things.\n",
      "Patron_#1: (TO MOE) Another pitcher of those amazing \"Flaming Moe's\".\n",
      "Patron_#2: Boy, I hate this joint, but I love that drink.\n",
      "Collette: Barkeep, I couldn't help noticing your sign.\n",
      "Moe_Szyslak: The one that says, \"Bartenders Do It 'Til You Barf\"?\n",
      "Collette: No, above that store-bought drollery.\n",
      "Moe_Szyslak: Oh great! Why don't we fill out an application? (READING) I'll need your name, measurements and turn ons..\n",
      "Collette: You really expect me to tell you my measurements?\n",
      "Moe_Szyslak: You could, but I find this way is much more accurate... and fun.\n",
      "Collette: (DISGUSTED) what do you offer in the way of salary?\n",
      "Moe_Szyslak: Minimum wage and tips. (MEANINGFULLY) Of course there are fringe benefits.\n",
      "Collette: Such as?\n",
      "Moe_Szyslak: An unforgettable weekend at Club Moe.\n",
      "Collette: I prefer to take my vacations someplace hot.\n",
      "Moe_Szyslak: I like your moxie, kid. You're hired.\n",
      "Collette: You shan't regret this.\n",
      "Moe_Szyslak: Methinks I shan't.\n",
      "HARV: (TO MOE) Pardon me, are you the genius behind the \"Flaming Moe\"?\n",
      "Homer_Simpson: Why yes I --\n",
      "Moe_Szyslak: (CUTTING HIM OFF) I'm your man.\n",
      "HARV: Huh uh. My name is Harv Bannister. I work for \"Tipsy McStagger's Good Time Drinking and Eating Emporium\".\n",
      "Moe_Szyslak: Oh yeah? Hey, what's Mr. McStagger really like?\n",
      "HARV: Actually, there is no Tipsy McStagger. He's just a composite of other successful logos.\n",
      "Moe_Szyslak: Well, you tell him from me that he makes one great mozzarella stick.\n",
      "HARV: (QUICKLY) Yes, fine, I will. Anyway, I've got a proposition for you.\n",
      "Moe_Szyslak: Keep talkin'.\n",
      "HARV: We feel your \"Flaming Moe\" is perfect for our restaurant chain. We want to buy the recipe.\n",
      "Moe_Szyslak: No dice. The \"Flaming Moe\" is not for sale. Do you know how much of my blood and sweat are in this drink?\n",
      "Barney_Gumble: Good for you, Moe. Only an idiot would give away a million dollar idea like that.\n",
      "Moe_Szyslak: (TO HARV) I'm sorry, but the secret ingredient dies with me.\n",
      "Delivery_Man: (TO MOE) Thirty cases of cough syrup. Sign here.\n",
      "Moe_Szyslak: (COVERING NERVOUS LAUGHING) I got hooked on this stuff in the service.\n",
      "Homer_Simpson: (QUIETLY) Hi, Moe. Where's that waitress of yours?\n",
      "Moe_Szyslak: Ah, she left to pursue a movie career. Frankly I think she was better off here.\n",
      "Homer_Simpson: Moe, sorry I lost you hundreds of thousands of dollars.\n",
      "Moe_Szyslak: Oh, hey, hey. Maybe some things are too good to be kept a secret.\n",
      "Homer_Simpson: I guess so.\n",
      "Moe_Szyslak: Compliments of the house. (WARMLY) One \"Flaming Homer\".\n",
      "Homer_Simpson: Ahh. Thanks, Moe. You're the greatest friend a guy could ever have.\n",
      "Homer_Simpson: Hey, do you think Aerosmith will be in tonight?\n",
      "Moe_Szyslak: I doubt it.\n",
      "\n",
      "\n",
      "Moe_Szyslak: (SHOCKED) Are you sure? Cuz once I open the bottle there's no refund.\n",
      "Moe_Szyslak: Hey, Homer. Wanna Duff?\n",
      "Homer_Simpson: (SMOOTHLY) No, I'd like a bottle of Henry K. Duff's Private Reserve.\n",
      "Homer_Simpson: For your information, I just made a cool twenty-five dollars playing the market. Buy low, sell high, that's my motto. I may just quit my job at the power plant to become a full-time stock market guy.\n",
      "Homer_Simpson: Have a Duff, boys!\n",
      "Hans: (GERMAN ACCENT, FRIENDLY) Oh, thank you. My English is not perfect, but I have to tell you your beer is like swill to us. Do I have that right? I am saying that only a swine would drink this beer.\n",
      "Fritz: (GERMAN ACCENT) Yeah, but thank you anyway.\n",
      "Homer_Simpson: Hey, you guys aren't from around here, are you?\n",
      "Hans: Ech, nein. We are from Germany. He is from the East. I am from the West.\n",
      "Fritz: I had a big company and he had a big company. Now we have a very big company.\n",
      "Hans: We are interested in buying the power plant. Do you think the owner would ever sell it?\n",
      "Homer_Simpson: (VERY CONFIDENT) Well, I happen to know that he won't sell it for less than 100 million dollars.\n",
      "Fritz: A hundred million?\n",
      "Hans: Oh, don't worry! We'll still have enough left to buy the Cleveland Browns.\n",
      "Moe_Szyslak: (INTO PHONE) Moe's Tavern. Moe speaking.\n",
      "Bart_Simpson: (INTO PHONE) Uh yes, I'm looking for a Mrs. O'Problem. First name... Bee.\n",
      "Moe_Szyslak: (INTO PHONE) Ah, yeah. Just a minute, I'll check. (CALLING OUT) Uh, Bee O'Problem. Bee O'Problem. C'mon, guys. Do I have an O'Problem here?\n",
      "Barney_Gumble: You sure do!\n",
      "Moe_Szyslak: (REALIZING) Awwww. (INTO PHONE) It's you, isn't it?\n",
      "Moe_Szyslak: Listen you, when I get a hold of you, I'm gonna use your head for a bucket and paint my house with your brains!\n",
      "Bart_Simpson: Excuse me, I'm looking for --\n",
      "Moe_Szyslak: Wait a minute. I know that voice.\n",
      "Moe_Szyslak: If it isn't little Bart Simpson! I haven't seen you in years.\n",
      "Bart_Simpson: That's right. That's my pop!\n",
      "Moe_Szyslak: Ah, little Bart... we hear all about your monkeyshines.\n",
      "Moe_Szyslak: (CONSPIRATORIAL) Bet you get into all kinds of trouble he don't even know about. Am I right? Huh? Am I right?\n",
      "Bart_Simpson: (CAN'T RESIST) Yeah, well, I make some crank phone calls.\n",
      "Moe_Szyslak: (MUSSES BART'S HAIR) (LAUGHS) That's great! Hey, would you sing that old song you used to sing for me?\n",
      "Bart_Simpson: (A LITTLE EMBARRASSED) Moe, for you... anything?\n",
      "Bart_Simpson: (SINGING) EVERY TEDDY BEAR WHO'S BEEN GOOD IS SURE OF A TREAT TODAY/ THERE'S LOTS OF MARVELOUS THINGS TO EAT, AND WONDERFUL GAMES TO PLAY/ BENEATH THE TREES, WHERE NOBODY SEES/ THEY'LL HIDE AND SEEK AS LONG AS THEY PLEASE/ TODAY'S THE DAY THE TEDDY BEARS HAVE THEIR PICNIC!\n",
      "Moe_Szyslak: He's a pip, this one is!\n",
      "C._Montgomery_Burns: Ah, the mirthless laugh of the damned. Hold your nose, Smithers, we're going in!\n",
      "C._Montgomery_Burns: (TO SMITHERS) Watch me blend in. (TO MOE) Barkeep, some cheap domestic beer for me and my \"buddy\" here.\n",
      "Homer_Simpson: I'm not your buddy, you greedy old reptile!\n",
      "C._Montgomery_Burns: Smithers, who is this saucy fellow?\n",
      "Waylon_Smithers: Homer Simpson, sir. Sector Sieben-gruben -- I mean, Sector 7G. Recently terminated.\n",
      "Homer_Simpson: That's right. I lost my job so that you could have another 100 million dollars.\n",
      "Homer_Simpson: (POINTED) Let me ask you something. Does your money cheer you up when you're feeling blue?\n",
      "C._Montgomery_Burns: Yes.\n",
      "Homer_Simpson: Okay, bad example. So let me ask you this, does your money ever hug you when you come home at night?\n",
      "C._Montgomery_Burns: (SHAKEN) Why, no.\n",
      "Homer_Simpson: And does it ever say, \"I love you?\"\n",
      "C._Montgomery_Burns: (SHAKEN) No, it doesn't.\n",
      "Homer_Simpson: (SING-SONG) Nobody loves you. Nobody loves you. You're old and you're ugly. Nobody loves you. Yea, yea, yea yea!\n",
      "Homer_Simpson: Nobody loves you...\n",
      "C._Montgomery_Burns: Good heavens, Smithers! They're not afraid of me anymore!\n",
      "Bart_Simpson: Hey Mr. Burns, did you get that letter I sent?\n",
      "C._Montgomery_Burns: Letter? I don't recall any letter...\n",
      "Bart_Simpson: That's because I forgot to stamp it.\n",
      "Moe_Szyslak: (LAUGHING) Ah, that kid slays me.\n",
      "C._Montgomery_Burns: That was no accident. Let's get out of here.\n",
      "Homer_Simpson: (SINGING) Na na na na / Na na na na /\n",
      "Barflies: Hey hey hey / Goodbye -- Na na na na / na na na na / hey hey hey / goodbye...\n",
      "C._Montgomery_Burns: What good is money if you can't inspire terror in your fellow man? (DETERMINED) I've got to get my plant back!\n"
     ]
    }
   ],
   "source": [
    "view_sentence_range = (100, 200)\n",
    "\n",
    "\"\"\"\n",
    "DON'T MODIFY ANYTHING IN THIS CELL\n",
    "\"\"\"\n",
    "import numpy as np\n",
    "\n",
    "print('Dataset Stats')\n",
    "print('Roughly the number of unique words: {}'.format(len({word: None for word in text.split()})))\n",
    "scenes = text.split('\\n\\n')\n",
    "print('Number of scenes: {}'.format(len(scenes)))\n",
    "sentence_count_scene = [scene.count('\\n') for scene in scenes]\n",
    "print('Average number of sentences in each scene: {}'.format(np.average(sentence_count_scene)))\n",
    "\n",
    "sentences = [sentence for scene in scenes for sentence in scene.split('\\n')]\n",
    "print('Number of lines: {}'.format(len(sentences)))\n",
    "word_count_sentence = [len(sentence.split()) for sentence in sentences]\n",
    "print('Average number of words in each line: {}'.format(np.average(word_count_sentence)))\n",
    "\n",
    "print()\n",
    "print('The sentences {} to {}:'.format(*view_sentence_range))\n",
    "print('\\n'.join(text.split('\\n')[view_sentence_range[0]:view_sentence_range[1]]))"
   ]
  },
  {
   "cell_type": "markdown",
   "metadata": {
    "deletable": true,
    "editable": true
   },
   "source": [
    "## Implement Preprocessing Functions\n",
    "The first thing to do to any dataset is preprocessing.  Implement the following preprocessing functions below:\n",
    "- Lookup Table\n",
    "- Tokenize Punctuation\n",
    "\n",
    "### Lookup Table\n",
    "To create a word embedding, you first need to transform the words to ids.  In this function, create two dictionaries:\n",
    "- Dictionary to go from the words to an id, we'll call `vocab_to_int`\n",
    "- Dictionary to go from the id to word, we'll call `int_to_vocab`\n",
    "\n",
    "Return these dictionaries in the following tuple `(vocab_to_int, int_to_vocab)`"
   ]
  },
  {
   "cell_type": "code",
   "execution_count": 67,
   "metadata": {
    "collapsed": false,
    "deletable": true,
    "editable": true
   },
   "outputs": [
    {
     "name": "stdout",
     "output_type": "stream",
     "text": [
      "Tests Passed\n"
     ]
    }
   ],
   "source": [
    "import numpy as np\n",
    "import problem_unittests as tests\n",
    "from collections import Counter\n",
    "\n",
    "def create_lookup_tables(text):\n",
    "    \"\"\"\n",
    "    Create lookup tables for vocabulary\n",
    "    :param text: The text of tv scripts split into words\n",
    "    :return: A tuple of dicts (vocab_to_int, int_to_vocab)\n",
    "    \"\"\"\n",
    "    # TODO: Implement Function\n",
    "    \n",
    "    # Word Counter\n",
    "    word_count   = Counter(text)\n",
    "    \n",
    "    # Sorting Words\n",
    "    sorted_vocab = sorted(word_count, key=word_count.get, reverse=True) \n",
    "    \n",
    "    # Dictionaries\n",
    "    vocab_to_int = {words: ii for ii, words in enumerate (sorted_vocab,0)}\n",
    "    int_to_vocab = {ii: words for ii, words in enumerate (sorted_vocab,0)}\n",
    "    \n",
    "    \n",
    "    return vocab_to_int, int_to_vocab\n",
    "\n",
    "\n",
    "\"\"\"\n",
    "DON'T MODIFY ANYTHING IN THIS CELL THAT IS BELOW THIS LINE\n",
    "\"\"\"\n",
    "tests.test_create_lookup_tables(create_lookup_tables)"
   ]
  },
  {
   "cell_type": "markdown",
   "metadata": {
    "deletable": true,
    "editable": true
   },
   "source": [
    "### Tokenize Punctuation\n",
    "We'll be splitting the script into a word array using spaces as delimiters.  However, punctuations like periods and exclamation marks make it hard for the neural network to distinguish between the word \"bye\" and \"bye!\".\n",
    "\n",
    "Implement the function `token_lookup` to return a dict that will be used to tokenize symbols like \"!\" into \"||Exclamation_Mark||\".  Create a dictionary for the following symbols where the symbol is the key and value is the token:\n",
    "- Period ( . )\n",
    "- Comma ( , )\n",
    "- Quotation Mark ( \" )\n",
    "- Semicolon ( ; )\n",
    "- Exclamation mark ( ! )\n",
    "- Question mark ( ? )\n",
    "- Left Parentheses ( ( )\n",
    "- Right Parentheses ( ) )\n",
    "- Dash ( -- )\n",
    "- Return ( \\n )\n",
    "\n",
    "This dictionary will be used to token the symbols and add the delimiter (space) around it.  This separates the symbols as it's own word, making it easier for the neural network to predict on the next word. Make sure you don't use a token that could be confused as a word. Instead of using the token \"dash\", try using something like \"||dash||\"."
   ]
  },
  {
   "cell_type": "code",
   "execution_count": 68,
   "metadata": {
    "collapsed": false,
    "deletable": true,
    "editable": true
   },
   "outputs": [
    {
     "name": "stdout",
     "output_type": "stream",
     "text": [
      "Tests Passed\n"
     ]
    }
   ],
   "source": [
    "def token_lookup():\n",
    "    \"\"\"\n",
    "    Generate a dict to turn punctuation into a token.\n",
    "    :return: Tokenize dictionary where the key is the punctuation and the value is the token\n",
    "    \"\"\"\n",
    "    # TODO: Implement Function\n",
    "    \n",
    "    # Punctuation Dictionary\n",
    "    punc_dict = {'.': '||Period||',\n",
    "                 ',': '||Comma||',\n",
    "                 '\"': '||Quotation_Mark||',\n",
    "                 ';': '||Semicolon||',\n",
    "                 '!': '||Exclamation_Mark||',\n",
    "                 '?': '||Question_Mark||',\n",
    "                 '(': '||Left_Parentheses||',\n",
    "                 ')': '||Right_Parentheses||',\n",
    "                 '--': '||Dash||',\n",
    "                 '\\n': '||Return||'\n",
    "                }\n",
    "    \n",
    "    \n",
    "    \n",
    "    return punc_dict\n",
    "\n",
    "\"\"\"\n",
    "DON'T MODIFY ANYTHING IN THIS CELL THAT IS BELOW THIS LINE\n",
    "\"\"\"\n",
    "tests.test_tokenize(token_lookup)"
   ]
  },
  {
   "cell_type": "markdown",
   "metadata": {
    "deletable": true,
    "editable": true
   },
   "source": [
    "## Preprocess all the data and save it\n",
    "Running the code cell below will preprocess all the data and save it to file."
   ]
  },
  {
   "cell_type": "code",
   "execution_count": 69,
   "metadata": {
    "collapsed": false,
    "deletable": true,
    "editable": true
   },
   "outputs": [],
   "source": [
    "\"\"\"\n",
    "DON'T MODIFY ANYTHING IN THIS CELL\n",
    "\"\"\"\n",
    "# Preprocess Training, Validation, and Testing Data\n",
    "helper.preprocess_and_save_data(data_dir, token_lookup, create_lookup_tables)"
   ]
  },
  {
   "cell_type": "markdown",
   "metadata": {
    "deletable": true,
    "editable": true
   },
   "source": [
    "# Check Point\n",
    "This is your first checkpoint. If you ever decide to come back to this notebook or have to restart the notebook, you can start from here. The preprocessed data has been saved to disk."
   ]
  },
  {
   "cell_type": "code",
   "execution_count": 70,
   "metadata": {
    "collapsed": true,
    "deletable": true,
    "editable": true
   },
   "outputs": [],
   "source": [
    "\"\"\"\n",
    "DON'T MODIFY ANYTHING IN THIS CELL\n",
    "\"\"\"\n",
    "import helper\n",
    "import numpy as np\n",
    "import problem_unittests as tests\n",
    "\n",
    "int_text, vocab_to_int, int_to_vocab, token_dict = helper.load_preprocess()"
   ]
  },
  {
   "cell_type": "markdown",
   "metadata": {
    "deletable": true,
    "editable": true
   },
   "source": [
    "## Build the Neural Network\n",
    "You'll build the components necessary to build a RNN by implementing the following functions below:\n",
    "- get_inputs\n",
    "- get_init_cell\n",
    "- get_embed\n",
    "- build_rnn\n",
    "- build_nn\n",
    "- get_batches\n",
    "\n",
    "### Check the Version of TensorFlow and Access to GPU"
   ]
  },
  {
   "cell_type": "code",
   "execution_count": 71,
   "metadata": {
    "collapsed": false,
    "deletable": true,
    "editable": true
   },
   "outputs": [
    {
     "name": "stdout",
     "output_type": "stream",
     "text": [
      "TensorFlow Version: 1.0.0\n",
      "Default GPU Device: /gpu:0\n"
     ]
    }
   ],
   "source": [
    "\"\"\"\n",
    "DON'T MODIFY ANYTHING IN THIS CELL\n",
    "\"\"\"\n",
    "from distutils.version import LooseVersion\n",
    "import warnings\n",
    "import tensorflow as tf\n",
    "\n",
    "# Check TensorFlow Version\n",
    "assert LooseVersion(tf.__version__) >= LooseVersion('1.0'), 'Please use TensorFlow version 1.0 or newer'\n",
    "print('TensorFlow Version: {}'.format(tf.__version__))\n",
    "\n",
    "# Check for a GPU\n",
    "if not tf.test.gpu_device_name():\n",
    "    warnings.warn('No GPU found. Please use a GPU to train your neural network.')\n",
    "else:\n",
    "    print('Default GPU Device: {}'.format(tf.test.gpu_device_name()))"
   ]
  },
  {
   "cell_type": "markdown",
   "metadata": {
    "deletable": true,
    "editable": true
   },
   "source": [
    "### Input\n",
    "Implement the `get_inputs()` function to create TF Placeholders for the Neural Network.  It should create the following placeholders:\n",
    "- Input text placeholder named \"input\" using the [TF Placeholder](https://www.tensorflow.org/api_docs/python/tf/placeholder) `name` parameter.\n",
    "- Targets placeholder\n",
    "- Learning Rate placeholder\n",
    "\n",
    "Return the placeholders in the following tuple `(Input, Targets, LearningRate)`"
   ]
  },
  {
   "cell_type": "code",
   "execution_count": 72,
   "metadata": {
    "collapsed": false,
    "deletable": true,
    "editable": true
   },
   "outputs": [
    {
     "name": "stdout",
     "output_type": "stream",
     "text": [
      "Tests Passed\n"
     ]
    }
   ],
   "source": [
    "def get_inputs():\n",
    "    \"\"\"\n",
    "    Create TF Placeholders for input, targets, and learning rate.\n",
    "    :return: Tuple (input, targets, learning rate)\n",
    "    \"\"\"\n",
    "    # TODO: Implement Function\n",
    "    # Inputs\n",
    "    inputs    = tf.placeholder(tf.int32, [None, None], name='input')\n",
    "    \n",
    "    # Targets\n",
    "    targets   = tf.placeholder(tf.int32, [None, None], name='target')\n",
    "    \n",
    "    # Learning Rate\n",
    "    lrn_rate  = tf.placeholder(tf.float32)\n",
    "    return inputs, targets, lrn_rate\n",
    "\n",
    "\n",
    "\"\"\"\n",
    "DON'T MODIFY ANYTHING IN THIS CELL THAT IS BELOW THIS LINE\n",
    "\"\"\"\n",
    "tests.test_get_inputs(get_inputs)"
   ]
  },
  {
   "cell_type": "markdown",
   "metadata": {
    "deletable": true,
    "editable": true
   },
   "source": [
    "### Build RNN Cell and Initialize\n",
    "Stack one or more [`BasicLSTMCells`](https://www.tensorflow.org/api_docs/python/tf/contrib/rnn/BasicLSTMCell) in a [`MultiRNNCell`](https://www.tensorflow.org/api_docs/python/tf/contrib/rnn/MultiRNNCell).\n",
    "- The Rnn size should be set using `rnn_size`\n",
    "- Initalize Cell State using the MultiRNNCell's [`zero_state()`](https://www.tensorflow.org/api_docs/python/tf/contrib/rnn/MultiRNNCell#zero_state) function\n",
    "    - Apply the name \"initial_state\" to the initial state using [`tf.identity()`](https://www.tensorflow.org/api_docs/python/tf/identity)\n",
    "\n",
    "Return the cell and initial state in the following tuple `(Cell, InitialState)`"
   ]
  },
  {
   "cell_type": "code",
   "execution_count": 73,
   "metadata": {
    "collapsed": false,
    "deletable": true,
    "editable": true
   },
   "outputs": [
    {
     "name": "stdout",
     "output_type": "stream",
     "text": [
      "Tests Passed\n"
     ]
    }
   ],
   "source": [
    "def get_init_cell(batch_size, rnn_size):\n",
    "    \"\"\"\n",
    "    Create an RNN Cell and initialize it.\n",
    "    :param batch_size: Size of batches\n",
    "    :param rnn_size: Size of RNNs\n",
    "    :return: Tuple (cell, initialize state)\n",
    "    \"\"\"\n",
    "    \n",
    "    # TODO: Implement Function\n",
    "    \n",
    "    num_layers = 1\n",
    "    \n",
    "    # Basic LSTM Cell \n",
    "    lstm_cell = tf.contrib.rnn.BasicLSTMCell(rnn_size)\n",
    "    \n",
    "    # Multi RNN Cell\n",
    "    lstm_cell = tf.contrib.rnn.MultiRNNCell([lstm_cell] * num_layers)\n",
    "    \n",
    "    # Initial State\n",
    "    initial_state = lstm_cell.zero_state(batch_size, tf.float32)\n",
    "    initial_state = tf.identity(initial_state, name='initial_state')\n",
    "    \n",
    "    return lstm_cell, initial_state\n",
    "\n",
    "\n",
    "\"\"\"\n",
    "DON'T MODIFY ANYTHING IN THIS CELL THAT IS BELOW THIS LINE\n",
    "\"\"\"\n",
    "tests.test_get_init_cell(get_init_cell)"
   ]
  },
  {
   "cell_type": "markdown",
   "metadata": {
    "deletable": true,
    "editable": true
   },
   "source": [
    "### Word Embedding\n",
    "Apply embedding to `input_data` using TensorFlow.  Return the embedded sequence."
   ]
  },
  {
   "cell_type": "code",
   "execution_count": 74,
   "metadata": {
    "collapsed": false,
    "deletable": true,
    "editable": true
   },
   "outputs": [
    {
     "name": "stdout",
     "output_type": "stream",
     "text": [
      "Tests Passed\n"
     ]
    }
   ],
   "source": [
    "def get_embed(input_data, vocab_size, embed_dim):\n",
    "    \"\"\"\n",
    "    Create embedding for <input_data>.\n",
    "    :param input_data: TF placeholder for text input.\n",
    "    :param vocab_size: Number of words in vocabulary.\n",
    "    :param embed_dim: Number of embedding dimensions\n",
    "    :return: Embedded input.\n",
    "    \"\"\"\n",
    "    # TODO: Implement Function\n",
    "    \n",
    "    # Embedding Matrix Initialization\n",
    "    embed_matrix   = tf.Variable(tf.random_uniform((vocab_size, embed_dim), -1, 1))\n",
    "    \n",
    "    # Embedding Sequence\n",
    "    embed_sequence = tf.nn.embedding_lookup(embed_matrix, input_data)\n",
    "    return embed_sequence\n",
    "\n",
    "\n",
    "\"\"\"\n",
    "DON'T MODIFY ANYTHING IN THIS CELL THAT IS BELOW THIS LINE\n",
    "\"\"\"\n",
    "tests.test_get_embed(get_embed)"
   ]
  },
  {
   "cell_type": "markdown",
   "metadata": {
    "deletable": true,
    "editable": true
   },
   "source": [
    "### Build RNN\n",
    "You created a RNN Cell in the `get_init_cell()` function.  Time to use the cell to create a RNN.\n",
    "- Build the RNN using the [`tf.nn.dynamic_rnn()`](https://www.tensorflow.org/api_docs/python/tf/nn/dynamic_rnn)\n",
    " - Apply the name \"final_state\" to the final state using [`tf.identity()`](https://www.tensorflow.org/api_docs/python/tf/identity)\n",
    "\n",
    "Return the outputs and final_state state in the following tuple `(Outputs, FinalState)` "
   ]
  },
  {
   "cell_type": "code",
   "execution_count": 75,
   "metadata": {
    "collapsed": false,
    "deletable": true,
    "editable": true
   },
   "outputs": [
    {
     "name": "stdout",
     "output_type": "stream",
     "text": [
      "Tests Passed\n"
     ]
    }
   ],
   "source": [
    "def build_rnn(cell, inputs):\n",
    "    \"\"\"\n",
    "    Create a RNN using a RNN Cell\n",
    "    :param cell: RNN Cell\n",
    "    :param inputs: Input text data\n",
    "    :return: Tuple (Outputs, Final State)\n",
    "    \"\"\"\n",
    "    # TODO: Implement Function\n",
    "    \n",
    "    # RNN \n",
    "    outputs, final_state = tf.nn.dynamic_rnn(cell, inputs, dtype=tf.float32)\n",
    "    \n",
    "    final_state = tf.identity(final_state, name='final_state')\n",
    "\n",
    "    return outputs, final_state\n",
    "\n",
    "\n",
    "\"\"\"\n",
    "DON'T MODIFY ANYTHING IN THIS CELL THAT IS BELOW THIS LINE\n",
    "\"\"\"\n",
    "tests.test_build_rnn(build_rnn)"
   ]
  },
  {
   "cell_type": "markdown",
   "metadata": {
    "deletable": true,
    "editable": true
   },
   "source": [
    "### Build the Neural Network\n",
    "Apply the functions you implemented above to:\n",
    "- Apply embedding to `input_data` using your `get_embed(input_data, vocab_size, embed_dim)` function.\n",
    "- Build RNN using `cell` and your `build_rnn(cell, inputs)` function.\n",
    "- Apply a fully connected layer with a linear activation and `vocab_size` as the number of outputs.\n",
    "\n",
    "Return the logits and final state in the following tuple (Logits, FinalState) "
   ]
  },
  {
   "cell_type": "code",
   "execution_count": 76,
   "metadata": {
    "collapsed": false,
    "deletable": true,
    "editable": true
   },
   "outputs": [
    {
     "name": "stdout",
     "output_type": "stream",
     "text": [
      "Tests Passed\n"
     ]
    }
   ],
   "source": [
    "def build_nn(cell, rnn_size, input_data, vocab_size, embed_dim):\n",
    "    \"\"\"\n",
    "    Build part of the neural network\n",
    "    :param cell: RNN cell\n",
    "    :param rnn_size: Size of rnns\n",
    "    :param input_data: Input data\n",
    "    :param vocab_size: Vocabulary size\n",
    "    :param embed_dim: Number of embedding dimensions\n",
    "    :return: Tuple (Logits, FinalState)\n",
    "    \"\"\"\n",
    "    # TODO: Implement Function\n",
    "    \n",
    "    # Embedding Inputs\n",
    "    embed = get_embed(input_data, vocab_size, embed_dim)\n",
    "    \n",
    "    # Building RNN\n",
    "    outputs, final_state = build_rnn(cell, embed)\n",
    "    \n",
    "    # FC Layer\n",
    "    logits = tf.contrib.layers.fully_connected(outputs, vocab_size, activation_fn=None)\n",
    "    \n",
    "    \n",
    "    return logits, final_state\n",
    "\n",
    "\n",
    "\"\"\"\n",
    "DON'T MODIFY ANYTHING IN THIS CELL THAT IS BELOW THIS LINE\n",
    "\"\"\"\n",
    "tests.test_build_nn(build_nn)"
   ]
  },
  {
   "cell_type": "markdown",
   "metadata": {
    "deletable": true,
    "editable": true
   },
   "source": [
    "### Batches\n",
    "Implement `get_batches` to create batches of input and targets using `int_text`.  The batches should be a Numpy array with the shape `(number of batches, 2, batch size, sequence length)`. Each batch contains two elements:\n",
    "- The first element is a single batch of **input** with the shape `[batch size, sequence length]`\n",
    "- The second element is a single batch of **targets** with the shape `[batch size, sequence length]`\n",
    "\n",
    "If you can't fill the last batch with enough data, drop the last batch.\n",
    "\n",
    "For exmple, `get_batches([1, 2, 3, 4, 5, 6, 7, 8, 9, 10, 11, 12, 13, 14, 15, 16, 17, 18, 19, 20], 3, 2)` would return a Numpy array of the following:\n",
    "```\n",
    "[\n",
    "  # First Batch\n",
    "  [\n",
    "    # Batch of Input\n",
    "    [[ 1  2], [ 7  8], [13 14]]\n",
    "    # Batch of targets\n",
    "    [[ 2  3], [ 8  9], [14 15]]\n",
    "  ]\n",
    "\n",
    "  # Second Batch\n",
    "  [\n",
    "    # Batch of Input\n",
    "    [[ 3  4], [ 9 10], [15 16]]\n",
    "    # Batch of targets\n",
    "    [[ 4  5], [10 11], [16 17]]\n",
    "  ]\n",
    "\n",
    "  # Third Batch\n",
    "  [\n",
    "    # Batch of Input\n",
    "    [[ 5  6], [11 12], [17 18]]\n",
    "    # Batch of targets\n",
    "    [[ 6  7], [12 13], [18  1]]\n",
    "  ]\n",
    "]\n",
    "```\n",
    "\n",
    "Notice that the last target value in the last batch is the first input value of the first batch. In this case, `1`. This is a common technique used when creating sequence batches, although it is rather unintuitive."
   ]
  },
  {
   "cell_type": "code",
   "execution_count": 77,
   "metadata": {
    "collapsed": false,
    "deletable": true,
    "editable": true
   },
   "outputs": [
    {
     "name": "stdout",
     "output_type": "stream",
     "text": [
      "Tests Passed\n"
     ]
    }
   ],
   "source": [
    "def get_batches(int_text, batch_size, seq_length):\n",
    "    \"\"\"\n",
    "    Return batches of input and target\n",
    "    :param int_text: Text with the words replaced by their ids\n",
    "    :param batch_size: The size of batch\n",
    "    :param seq_length: The length of sequence\n",
    "    :return: Batches as a Numpy array\n",
    "    \"\"\"\n",
    "    \n",
    "    # Total number of batches\n",
    "    n_batches = ((len(int_text)//batch_size))//seq_length\n",
    "    \n",
    "    # Batch unit step\n",
    "    batch_unit_step = n_batches * seq_length\n",
    "    \n",
    "    # Removing insufficient data\n",
    "    int_text = int_text[0: batch_unit_step * batch_size]\n",
    "    \n",
    "    # Batch declaration\n",
    "    batch = np.zeros((n_batches, 2, batch_size, seq_length))\n",
    "    \n",
    "    for batch_idx in range(0, n_batches):\n",
    "        \n",
    "        # Batches of inputs and targets declaration\n",
    "        batch_input = np.zeros((batch_size, seq_length))\n",
    "        batch_target = np.zeros((batch_size, seq_length))\n",
    "        \n",
    "        \n",
    "        for line_idx in range(0,len(int_text), batch_unit_step):\n",
    "            \n",
    "            # Counter for an unit of a batch\n",
    "            count  = line_idx //batch_unit_step\n",
    "            \n",
    "            # Batch step\n",
    "            batch_step = batch_idx * seq_length\n",
    "            \n",
    "            # Batch of inputs\n",
    "            batch_input[count] = np.array([int_text[line_idx + batch_step: line_idx + batch_step + seq_length]])\n",
    "            \n",
    "            # Batch of targets: condition for the last target value \n",
    "            if(batch_idx == n_batches-1 and count == batch_size-1): \n",
    "                batch_target[count] = np.array(np.append([int_text[line_idx + batch_step + 1: line_idx + batch_step + seq_length]], int_text[0]))\n",
    "                \n",
    "            else:\n",
    "                batch_target[count] = np.array([int_text[line_idx + batch_step + 1:line_idx + batch_step +seq_length+1]])\n",
    "            \n",
    "        \n",
    "        # Batch of outputs\n",
    "        batch[batch_idx] = np.array([batch_input, batch_target])\n",
    "        \n",
    "    # TODO: Implement Function\n",
    "    return batch\n",
    "\n",
    "\n",
    "\"\"\"\n",
    "DON'T MODIFY ANYTHING IN THIS CELL THAT IS BELOW THIS LINE\n",
    "\"\"\"\n",
    "tests.test_get_batches(get_batches)"
   ]
  },
  {
   "cell_type": "markdown",
   "metadata": {
    "deletable": true,
    "editable": true
   },
   "source": [
    "## Neural Network Training\n",
    "### Hyperparameters\n",
    "Tune the following parameters:\n",
    "\n",
    "- Set `num_epochs` to the number of epochs.\n",
    "- Set `batch_size` to the batch size.\n",
    "- Set `rnn_size` to the size of the RNNs.\n",
    "- Set `embed_dim` to the size of the embedding.\n",
    "- Set `seq_length` to the length of sequence.\n",
    "- Set `learning_rate` to the learning rate.\n",
    "- Set `show_every_n_batches` to the number of batches the neural network should print progress."
   ]
  },
  {
   "cell_type": "code",
   "execution_count": 97,
   "metadata": {
    "collapsed": false,
    "deletable": true,
    "editable": true
   },
   "outputs": [],
   "source": [
    "# Number of Epochs\n",
    "num_epochs = 250\n",
    "# Batch Size\n",
    "batch_size = 512\n",
    "# RNN Size\n",
    "rnn_size = 256\n",
    "# Embedding Dimension Size\n",
    "embed_dim = 384\n",
    "# Sequence Length\n",
    "seq_length = 50\n",
    "# Learning Rate\n",
    "learning_rate = 0.01\n",
    "# Show stats for every n number of batches\n",
    "show_every_n_batches = 2\n",
    "\n",
    "\"\"\"\n",
    "DON'T MODIFY ANYTHING IN THIS CELL THAT IS BELOW THIS LINE\n",
    "\"\"\"\n",
    "save_dir = './save'"
   ]
  },
  {
   "cell_type": "markdown",
   "metadata": {
    "deletable": true,
    "editable": true
   },
   "source": [
    "### Build the Graph\n",
    "Build the graph using the neural network you implemented."
   ]
  },
  {
   "cell_type": "code",
   "execution_count": 98,
   "metadata": {
    "collapsed": true,
    "deletable": true,
    "editable": true
   },
   "outputs": [],
   "source": [
    "\"\"\"\n",
    "DON'T MODIFY ANYTHING IN THIS CELL\n",
    "\"\"\"\n",
    "from tensorflow.contrib import seq2seq\n",
    "\n",
    "train_graph = tf.Graph()\n",
    "with train_graph.as_default():\n",
    "    vocab_size = len(int_to_vocab)\n",
    "    input_text, targets, lr = get_inputs()\n",
    "    input_data_shape = tf.shape(input_text)\n",
    "    cell, initial_state = get_init_cell(input_data_shape[0], rnn_size)\n",
    "    logits, final_state = build_nn(cell, rnn_size, input_text, vocab_size, embed_dim)\n",
    "\n",
    "    # Probabilities for generating words\n",
    "    probs = tf.nn.softmax(logits, name='probs')\n",
    "\n",
    "    # Loss function\n",
    "    cost = seq2seq.sequence_loss(\n",
    "        logits,\n",
    "        targets,\n",
    "        tf.ones([input_data_shape[0], input_data_shape[1]]))\n",
    "\n",
    "    # Optimizer\n",
    "    optimizer = tf.train.AdamOptimizer(lr)\n",
    "\n",
    "    # Gradient Clipping\n",
    "    gradients = optimizer.compute_gradients(cost)\n",
    "    capped_gradients = [(tf.clip_by_value(grad, -1., 1.), var) for grad, var in gradients if grad is not None]\n",
    "    train_op = optimizer.apply_gradients(capped_gradients)"
   ]
  },
  {
   "cell_type": "markdown",
   "metadata": {
    "deletable": true,
    "editable": true
   },
   "source": [
    "## Train\n",
    "Train the neural network on the preprocessed data.  If you have a hard time getting a good loss, check the [forums](https://discussions.udacity.com/) to see if anyone is having the same problem."
   ]
  },
  {
   "cell_type": "code",
   "execution_count": 99,
   "metadata": {
    "collapsed": false,
    "deletable": true,
    "editable": true
   },
   "outputs": [
    {
     "name": "stdout",
     "output_type": "stream",
     "text": [
      "Epoch   0 Batch    0/2   train_loss = 8.818\n",
      "Epoch   1 Batch    0/2   train_loss = 6.758\n",
      "Epoch   2 Batch    0/2   train_loss = 6.023\n",
      "Epoch   3 Batch    0/2   train_loss = 5.914\n",
      "Epoch   4 Batch    0/2   train_loss = 5.629\n",
      "Epoch   5 Batch    0/2   train_loss = 5.438\n",
      "Epoch   6 Batch    0/2   train_loss = 5.274\n",
      "Epoch   7 Batch    0/2   train_loss = 5.116\n",
      "Epoch   8 Batch    0/2   train_loss = 4.963\n",
      "Epoch   9 Batch    0/2   train_loss = 4.816\n",
      "Epoch  10 Batch    0/2   train_loss = 4.685\n",
      "Epoch  11 Batch    0/2   train_loss = 4.562\n",
      "Epoch  12 Batch    0/2   train_loss = 4.444\n",
      "Epoch  13 Batch    0/2   train_loss = 4.329\n",
      "Epoch  14 Batch    0/2   train_loss = 4.216\n",
      "Epoch  15 Batch    0/2   train_loss = 4.104\n",
      "Epoch  16 Batch    0/2   train_loss = 3.992\n",
      "Epoch  17 Batch    0/2   train_loss = 3.880\n",
      "Epoch  18 Batch    0/2   train_loss = 3.769\n",
      "Epoch  19 Batch    0/2   train_loss = 3.660\n",
      "Epoch  20 Batch    0/2   train_loss = 3.555\n",
      "Epoch  21 Batch    0/2   train_loss = 3.453\n",
      "Epoch  22 Batch    0/2   train_loss = 3.353\n",
      "Epoch  23 Batch    0/2   train_loss = 3.259\n",
      "Epoch  24 Batch    0/2   train_loss = 3.168\n",
      "Epoch  25 Batch    0/2   train_loss = 3.085\n",
      "Epoch  26 Batch    0/2   train_loss = 2.996\n",
      "Epoch  27 Batch    0/2   train_loss = 2.921\n",
      "Epoch  28 Batch    0/2   train_loss = 2.842\n",
      "Epoch  29 Batch    0/2   train_loss = 2.766\n",
      "Epoch  30 Batch    0/2   train_loss = 2.692\n",
      "Epoch  31 Batch    0/2   train_loss = 2.623\n",
      "Epoch  32 Batch    0/2   train_loss = 2.552\n",
      "Epoch  33 Batch    0/2   train_loss = 2.488\n",
      "Epoch  34 Batch    0/2   train_loss = 2.425\n",
      "Epoch  35 Batch    0/2   train_loss = 2.362\n",
      "Epoch  36 Batch    0/2   train_loss = 2.305\n",
      "Epoch  37 Batch    0/2   train_loss = 2.257\n",
      "Epoch  38 Batch    0/2   train_loss = 2.213\n",
      "Epoch  39 Batch    0/2   train_loss = 2.134\n",
      "Epoch  40 Batch    0/2   train_loss = 2.081\n",
      "Epoch  41 Batch    0/2   train_loss = 2.028\n",
      "Epoch  42 Batch    0/2   train_loss = 1.980\n",
      "Epoch  43 Batch    0/2   train_loss = 1.931\n",
      "Epoch  44 Batch    0/2   train_loss = 1.884\n",
      "Epoch  45 Batch    0/2   train_loss = 1.838\n",
      "Epoch  46 Batch    0/2   train_loss = 1.792\n",
      "Epoch  47 Batch    0/2   train_loss = 1.750\n",
      "Epoch  48 Batch    0/2   train_loss = 1.706\n",
      "Epoch  49 Batch    0/2   train_loss = 1.675\n",
      "Epoch  50 Batch    0/2   train_loss = 1.625\n",
      "Epoch  51 Batch    0/2   train_loss = 1.609\n",
      "Epoch  52 Batch    0/2   train_loss = 1.560\n",
      "Epoch  53 Batch    0/2   train_loss = 1.521\n",
      "Epoch  54 Batch    0/2   train_loss = 1.485\n",
      "Epoch  55 Batch    0/2   train_loss = 1.452\n",
      "Epoch  56 Batch    0/2   train_loss = 1.417\n",
      "Epoch  57 Batch    0/2   train_loss = 1.393\n",
      "Epoch  58 Batch    0/2   train_loss = 1.359\n",
      "Epoch  59 Batch    0/2   train_loss = 1.355\n",
      "Epoch  60 Batch    0/2   train_loss = 1.299\n",
      "Epoch  61 Batch    0/2   train_loss = 1.276\n",
      "Epoch  62 Batch    0/2   train_loss = 1.247\n",
      "Epoch  63 Batch    0/2   train_loss = 1.221\n",
      "Epoch  64 Batch    0/2   train_loss = 1.193\n",
      "Epoch  65 Batch    0/2   train_loss = 1.166\n",
      "Epoch  66 Batch    0/2   train_loss = 1.140\n",
      "Epoch  67 Batch    0/2   train_loss = 1.117\n",
      "Epoch  68 Batch    0/2   train_loss = 1.096\n",
      "Epoch  69 Batch    0/2   train_loss = 1.075\n",
      "Epoch  70 Batch    0/2   train_loss = 1.060\n",
      "Epoch  71 Batch    0/2   train_loss = 1.032\n",
      "Epoch  72 Batch    0/2   train_loss = 1.012\n",
      "Epoch  73 Batch    0/2   train_loss = 0.992\n",
      "Epoch  74 Batch    0/2   train_loss = 0.975\n",
      "Epoch  75 Batch    0/2   train_loss = 0.950\n",
      "Epoch  76 Batch    0/2   train_loss = 0.934\n",
      "Epoch  77 Batch    0/2   train_loss = 0.921\n",
      "Epoch  78 Batch    0/2   train_loss = 0.897\n",
      "Epoch  79 Batch    0/2   train_loss = 0.877\n",
      "Epoch  80 Batch    0/2   train_loss = 0.861\n",
      "Epoch  81 Batch    0/2   train_loss = 0.848\n",
      "Epoch  82 Batch    0/2   train_loss = 0.830\n",
      "Epoch  83 Batch    0/2   train_loss = 0.816\n",
      "Epoch  84 Batch    0/2   train_loss = 0.798\n",
      "Epoch  85 Batch    0/2   train_loss = 0.803\n",
      "Epoch  86 Batch    0/2   train_loss = 0.773\n",
      "Epoch  87 Batch    0/2   train_loss = 0.767\n",
      "Epoch  88 Batch    0/2   train_loss = 0.743\n",
      "Epoch  89 Batch    0/2   train_loss = 0.737\n",
      "Epoch  90 Batch    0/2   train_loss = 0.717\n",
      "Epoch  91 Batch    0/2   train_loss = 0.703\n",
      "Epoch  92 Batch    0/2   train_loss = 0.689\n",
      "Epoch  93 Batch    0/2   train_loss = 0.675\n",
      "Epoch  94 Batch    0/2   train_loss = 0.656\n",
      "Epoch  95 Batch    0/2   train_loss = 0.644\n",
      "Epoch  96 Batch    0/2   train_loss = 0.632\n",
      "Epoch  97 Batch    0/2   train_loss = 0.624\n",
      "Epoch  98 Batch    0/2   train_loss = 0.608\n",
      "Epoch  99 Batch    0/2   train_loss = 0.599\n",
      "Epoch 100 Batch    0/2   train_loss = 0.591\n",
      "Epoch 101 Batch    0/2   train_loss = 0.583\n",
      "Epoch 102 Batch    0/2   train_loss = 0.588\n",
      "Epoch 103 Batch    0/2   train_loss = 0.563\n",
      "Epoch 104 Batch    0/2   train_loss = 0.565\n",
      "Epoch 105 Batch    0/2   train_loss = 0.546\n",
      "Epoch 106 Batch    0/2   train_loss = 0.540\n",
      "Epoch 107 Batch    0/2   train_loss = 0.524\n",
      "Epoch 108 Batch    0/2   train_loss = 0.509\n",
      "Epoch 109 Batch    0/2   train_loss = 0.496\n",
      "Epoch 110 Batch    0/2   train_loss = 0.486\n",
      "Epoch 111 Batch    0/2   train_loss = 0.475\n",
      "Epoch 112 Batch    0/2   train_loss = 0.466\n",
      "Epoch 113 Batch    0/2   train_loss = 0.456\n",
      "Epoch 114 Batch    0/2   train_loss = 0.443\n",
      "Epoch 115 Batch    0/2   train_loss = 0.437\n",
      "Epoch 116 Batch    0/2   train_loss = 0.426\n",
      "Epoch 117 Batch    0/2   train_loss = 0.427\n",
      "Epoch 118 Batch    0/2   train_loss = 0.417\n",
      "Epoch 119 Batch    0/2   train_loss = 0.411\n",
      "Epoch 120 Batch    0/2   train_loss = 0.416\n",
      "Epoch 121 Batch    0/2   train_loss = 0.411\n",
      "Epoch 122 Batch    0/2   train_loss = 0.396\n",
      "Epoch 123 Batch    0/2   train_loss = 0.383\n",
      "Epoch 124 Batch    0/2   train_loss = 0.378\n",
      "Epoch 125 Batch    0/2   train_loss = 0.367\n",
      "Epoch 126 Batch    0/2   train_loss = 0.360\n",
      "Epoch 127 Batch    0/2   train_loss = 0.352\n",
      "Epoch 128 Batch    0/2   train_loss = 0.344\n",
      "Epoch 129 Batch    0/2   train_loss = 0.335\n",
      "Epoch 130 Batch    0/2   train_loss = 0.330\n",
      "Epoch 131 Batch    0/2   train_loss = 0.324\n",
      "Epoch 132 Batch    0/2   train_loss = 0.318\n",
      "Epoch 133 Batch    0/2   train_loss = 0.316\n",
      "Epoch 134 Batch    0/2   train_loss = 0.308\n",
      "Epoch 135 Batch    0/2   train_loss = 0.305\n",
      "Epoch 136 Batch    0/2   train_loss = 0.298\n",
      "Epoch 137 Batch    0/2   train_loss = 0.290\n",
      "Epoch 138 Batch    0/2   train_loss = 0.287\n",
      "Epoch 139 Batch    0/2   train_loss = 0.282\n",
      "Epoch 140 Batch    0/2   train_loss = 0.279\n",
      "Epoch 141 Batch    0/2   train_loss = 0.270\n",
      "Epoch 142 Batch    0/2   train_loss = 0.262\n",
      "Epoch 143 Batch    0/2   train_loss = 0.258\n",
      "Epoch 144 Batch    0/2   train_loss = 0.252\n",
      "Epoch 145 Batch    0/2   train_loss = 0.247\n",
      "Epoch 146 Batch    0/2   train_loss = 0.242\n",
      "Epoch 147 Batch    0/2   train_loss = 0.240\n",
      "Epoch 148 Batch    0/2   train_loss = 0.233\n",
      "Epoch 149 Batch    0/2   train_loss = 0.235\n",
      "Epoch 150 Batch    0/2   train_loss = 0.228\n",
      "Epoch 151 Batch    0/2   train_loss = 0.228\n",
      "Epoch 152 Batch    0/2   train_loss = 0.222\n",
      "Epoch 153 Batch    0/2   train_loss = 0.219\n",
      "Epoch 154 Batch    0/2   train_loss = 0.211\n",
      "Epoch 155 Batch    0/2   train_loss = 0.207\n",
      "Epoch 156 Batch    0/2   train_loss = 0.203\n",
      "Epoch 157 Batch    0/2   train_loss = 0.198\n",
      "Epoch 158 Batch    0/2   train_loss = 0.194\n",
      "Epoch 159 Batch    0/2   train_loss = 0.189\n",
      "Epoch 160 Batch    0/2   train_loss = 0.188\n",
      "Epoch 161 Batch    0/2   train_loss = 0.183\n",
      "Epoch 162 Batch    0/2   train_loss = 0.183\n",
      "Epoch 163 Batch    0/2   train_loss = 0.177\n",
      "Epoch 164 Batch    0/2   train_loss = 0.175\n",
      "Epoch 165 Batch    0/2   train_loss = 0.171\n",
      "Epoch 166 Batch    0/2   train_loss = 0.170\n",
      "Epoch 167 Batch    0/2   train_loss = 0.168\n",
      "Epoch 168 Batch    0/2   train_loss = 0.163\n",
      "Epoch 169 Batch    0/2   train_loss = 0.163\n",
      "Epoch 170 Batch    0/2   train_loss = 0.157\n",
      "Epoch 171 Batch    0/2   train_loss = 0.153\n",
      "Epoch 172 Batch    0/2   train_loss = 0.153\n",
      "Epoch 173 Batch    0/2   train_loss = 0.152\n",
      "Epoch 174 Batch    0/2   train_loss = 0.147\n",
      "Epoch 175 Batch    0/2   train_loss = 0.144\n",
      "Epoch 176 Batch    0/2   train_loss = 0.142\n",
      "Epoch 177 Batch    0/2   train_loss = 0.139\n",
      "Epoch 178 Batch    0/2   train_loss = 0.137\n",
      "Epoch 179 Batch    0/2   train_loss = 0.134\n",
      "Epoch 180 Batch    0/2   train_loss = 0.132\n",
      "Epoch 181 Batch    0/2   train_loss = 0.129\n",
      "Epoch 182 Batch    0/2   train_loss = 0.126\n",
      "Epoch 183 Batch    0/2   train_loss = 0.124\n",
      "Epoch 184 Batch    0/2   train_loss = 0.123\n",
      "Epoch 185 Batch    0/2   train_loss = 0.120\n",
      "Epoch 186 Batch    0/2   train_loss = 0.119\n",
      "Epoch 187 Batch    0/2   train_loss = 0.117\n",
      "Epoch 188 Batch    0/2   train_loss = 0.116\n",
      "Epoch 189 Batch    0/2   train_loss = 0.113\n",
      "Epoch 190 Batch    0/2   train_loss = 0.112\n",
      "Epoch 191 Batch    0/2   train_loss = 0.111\n",
      "Epoch 192 Batch    0/2   train_loss = 0.110\n",
      "Epoch 193 Batch    0/2   train_loss = 0.109\n",
      "Epoch 194 Batch    0/2   train_loss = 0.112\n",
      "Epoch 195 Batch    0/2   train_loss = 0.106\n",
      "Epoch 196 Batch    0/2   train_loss = 0.108\n",
      "Epoch 197 Batch    0/2   train_loss = 0.106\n",
      "Epoch 198 Batch    0/2   train_loss = 0.103\n",
      "Epoch 199 Batch    0/2   train_loss = 0.102\n",
      "Epoch 200 Batch    0/2   train_loss = 0.101\n",
      "Epoch 201 Batch    0/2   train_loss = 0.100\n",
      "Epoch 202 Batch    0/2   train_loss = 0.098\n",
      "Epoch 203 Batch    0/2   train_loss = 0.097\n",
      "Epoch 204 Batch    0/2   train_loss = 0.096\n",
      "Epoch 205 Batch    0/2   train_loss = 0.095\n",
      "Epoch 206 Batch    0/2   train_loss = 0.093\n",
      "Epoch 207 Batch    0/2   train_loss = 0.092\n",
      "Epoch 208 Batch    0/2   train_loss = 0.091\n",
      "Epoch 209 Batch    0/2   train_loss = 0.090\n",
      "Epoch 210 Batch    0/2   train_loss = 0.088\n",
      "Epoch 211 Batch    0/2   train_loss = 0.087\n",
      "Epoch 212 Batch    0/2   train_loss = 0.086\n",
      "Epoch 213 Batch    0/2   train_loss = 0.085\n",
      "Epoch 214 Batch    0/2   train_loss = 0.084\n",
      "Epoch 215 Batch    0/2   train_loss = 0.083\n",
      "Epoch 216 Batch    0/2   train_loss = 0.082\n",
      "Epoch 217 Batch    0/2   train_loss = 0.081\n",
      "Epoch 218 Batch    0/2   train_loss = 0.080\n",
      "Epoch 219 Batch    0/2   train_loss = 0.080\n",
      "Epoch 220 Batch    0/2   train_loss = 0.079\n",
      "Epoch 221 Batch    0/2   train_loss = 0.077\n",
      "Epoch 222 Batch    0/2   train_loss = 0.077\n",
      "Epoch 223 Batch    0/2   train_loss = 0.076\n",
      "Epoch 224 Batch    0/2   train_loss = 0.075\n",
      "Epoch 225 Batch    0/2   train_loss = 0.075\n",
      "Epoch 226 Batch    0/2   train_loss = 0.074\n",
      "Epoch 227 Batch    0/2   train_loss = 0.073\n",
      "Epoch 228 Batch    0/2   train_loss = 0.073\n",
      "Epoch 229 Batch    0/2   train_loss = 0.072\n",
      "Epoch 230 Batch    0/2   train_loss = 0.072\n",
      "Epoch 231 Batch    0/2   train_loss = 0.071\n",
      "Epoch 232 Batch    0/2   train_loss = 0.070\n",
      "Epoch 233 Batch    0/2   train_loss = 0.070\n",
      "Epoch 234 Batch    0/2   train_loss = 0.069\n",
      "Epoch 235 Batch    0/2   train_loss = 0.069\n",
      "Epoch 236 Batch    0/2   train_loss = 0.068\n",
      "Epoch 237 Batch    0/2   train_loss = 0.068\n",
      "Epoch 238 Batch    0/2   train_loss = 0.067\n",
      "Epoch 239 Batch    0/2   train_loss = 0.067\n",
      "Epoch 240 Batch    0/2   train_loss = 0.066\n",
      "Epoch 241 Batch    0/2   train_loss = 0.066\n",
      "Epoch 242 Batch    0/2   train_loss = 0.065\n",
      "Epoch 243 Batch    0/2   train_loss = 0.065\n",
      "Epoch 244 Batch    0/2   train_loss = 0.064\n",
      "Epoch 245 Batch    0/2   train_loss = 0.064\n",
      "Epoch 246 Batch    0/2   train_loss = 0.063\n",
      "Epoch 247 Batch    0/2   train_loss = 0.063\n",
      "Epoch 248 Batch    0/2   train_loss = 0.063\n",
      "Epoch 249 Batch    0/2   train_loss = 0.062\n",
      "Model Trained and Saved\n"
     ]
    }
   ],
   "source": [
    "\"\"\"\n",
    "DON'T MODIFY ANYTHING IN THIS CELL\n",
    "\"\"\"\n",
    "batches = get_batches(int_text, batch_size, seq_length)\n",
    "\n",
    "with tf.Session(graph=train_graph) as sess:\n",
    "    sess.run(tf.global_variables_initializer())\n",
    "\n",
    "    for epoch_i in range(num_epochs):\n",
    "        state = sess.run(initial_state, {input_text: batches[0][0]})\n",
    "\n",
    "        for batch_i, (x, y) in enumerate(batches):\n",
    "            feed = {\n",
    "                input_text: x,\n",
    "                targets: y,\n",
    "                initial_state: state,\n",
    "                lr: learning_rate}\n",
    "            train_loss, state, _ = sess.run([cost, final_state, train_op], feed)\n",
    "\n",
    "            # Show every <show_every_n_batches> batches\n",
    "            if (epoch_i * len(batches) + batch_i) % show_every_n_batches == 0:\n",
    "                print('Epoch {:>3} Batch {:>4}/{}   train_loss = {:.3f}'.format(\n",
    "                    epoch_i,\n",
    "                    batch_i,\n",
    "                    len(batches),\n",
    "                    train_loss))\n",
    "\n",
    "    # Save Model\n",
    "    saver = tf.train.Saver()\n",
    "    saver.save(sess, save_dir)\n",
    "    print('Model Trained and Saved')"
   ]
  },
  {
   "cell_type": "markdown",
   "metadata": {
    "deletable": true,
    "editable": true
   },
   "source": [
    "## Save Parameters\n",
    "Save `seq_length` and `save_dir` for generating a new TV script."
   ]
  },
  {
   "cell_type": "code",
   "execution_count": 100,
   "metadata": {
    "collapsed": true,
    "deletable": true,
    "editable": true
   },
   "outputs": [],
   "source": [
    "\"\"\"\n",
    "DON'T MODIFY ANYTHING IN THIS CELL\n",
    "\"\"\"\n",
    "# Save parameters for checkpoint\n",
    "helper.save_params((seq_length, save_dir))"
   ]
  },
  {
   "cell_type": "markdown",
   "metadata": {
    "deletable": true,
    "editable": true
   },
   "source": [
    "# Checkpoint"
   ]
  },
  {
   "cell_type": "code",
   "execution_count": 101,
   "metadata": {
    "collapsed": true,
    "deletable": true,
    "editable": true
   },
   "outputs": [],
   "source": [
    "\"\"\"\n",
    "DON'T MODIFY ANYTHING IN THIS CELL\n",
    "\"\"\"\n",
    "import tensorflow as tf\n",
    "import numpy as np\n",
    "import helper\n",
    "import problem_unittests as tests\n",
    "\n",
    "_, vocab_to_int, int_to_vocab, token_dict = helper.load_preprocess()\n",
    "seq_length, load_dir = helper.load_params()"
   ]
  },
  {
   "cell_type": "markdown",
   "metadata": {
    "deletable": true,
    "editable": true
   },
   "source": [
    "## Implement Generate Functions\n",
    "### Get Tensors\n",
    "Get tensors from `loaded_graph` using the function [`get_tensor_by_name()`](https://www.tensorflow.org/api_docs/python/tf/Graph#get_tensor_by_name).  Get the tensors using the following names:\n",
    "- \"input:0\"\n",
    "- \"initial_state:0\"\n",
    "- \"final_state:0\"\n",
    "- \"probs:0\"\n",
    "\n",
    "Return the tensors in the following tuple `(InputTensor, InitialStateTensor, FinalStateTensor, ProbsTensor)` "
   ]
  },
  {
   "cell_type": "code",
   "execution_count": 102,
   "metadata": {
    "collapsed": false,
    "deletable": true,
    "editable": true
   },
   "outputs": [
    {
     "name": "stdout",
     "output_type": "stream",
     "text": [
      "Tests Passed\n"
     ]
    }
   ],
   "source": [
    "def get_tensors(loaded_graph):\n",
    "    \"\"\"\n",
    "    Get input, initial state, final state, and probabilities tensor from <loaded_graph>\n",
    "    :param loaded_graph: TensorFlow graph loaded from file\n",
    "    :return: Tuple (InputTensor, InitialStateTensor, FinalStateTensor, ProbsTensor)\n",
    "    \"\"\"\n",
    "    # TODO: Implement Function\n",
    "    \n",
    "    # Input tensor\n",
    "    input_tensor = loaded_graph.get_tensor_by_name('input:0')\n",
    "    \n",
    "    # Initial state tensor\n",
    "    initial_state_tensor = loaded_graph.get_tensor_by_name('initial_state:0')\n",
    "    \n",
    "    # Final state tensor\n",
    "    final_state_tensor = loaded_graph.get_tensor_by_name('final_state:0')\n",
    "    \n",
    "    # Probs\n",
    "    probs_tensor = loaded_graph.get_tensor_by_name('probs:0')\n",
    "        \n",
    "    return input_tensor, initial_state_tensor, final_state_tensor, probs_tensor\n",
    "\n",
    "\n",
    "\"\"\"\n",
    "DON'T MODIFY ANYTHING IN THIS CELL THAT IS BELOW THIS LINE\n",
    "\"\"\"\n",
    "tests.test_get_tensors(get_tensors)"
   ]
  },
  {
   "cell_type": "markdown",
   "metadata": {
    "deletable": true,
    "editable": true
   },
   "source": [
    "### Choose Word\n",
    "Implement the `pick_word()` function to select the next word using `probabilities`."
   ]
  },
  {
   "cell_type": "code",
   "execution_count": 115,
   "metadata": {
    "collapsed": false,
    "deletable": true,
    "editable": true
   },
   "outputs": [
    {
     "name": "stdout",
     "output_type": "stream",
     "text": [
      "Tests Passed\n"
     ]
    }
   ],
   "source": [
    "def pick_word(probabilities, int_to_vocab):\n",
    "    \"\"\"\n",
    "    Pick the next word in the generated text\n",
    "    :param probabilities: Probabilites of the next word\n",
    "    :param int_to_vocab: Dictionary of word ids as the keys and words as the values\n",
    "    :return: String of the predicted word\n",
    "    \"\"\"\n",
    "    # TODO: Implement Function\n",
    "    \n",
    "    # Predicted word -- the one with the highest probability\n",
    "    pred_word = int_to_vocab[np.argmax(probabilities)]\n",
    "    \n",
    "    return pred_word\n",
    "\n",
    "\n",
    "\"\"\"\n",
    "DON'T MODIFY ANYTHING IN THIS CELL THAT IS BELOW THIS LINE\n",
    "\"\"\"\n",
    "tests.test_pick_word(pick_word)"
   ]
  },
  {
   "cell_type": "markdown",
   "metadata": {
    "deletable": true,
    "editable": true
   },
   "source": [
    "## Generate TV Script\n",
    "This will generate the TV script for you.  Set `gen_length` to the length of TV script you want to generate."
   ]
  },
  {
   "cell_type": "code",
   "execution_count": 116,
   "metadata": {
    "collapsed": false,
    "deletable": true,
    "editable": true
   },
   "outputs": [
    {
     "name": "stdout",
     "output_type": "stream",
     "text": [
      "moe_szyslak: oh, so you're looking for a mr. smithers, eh? first name, waylon, is it?(suddenly vicious) listen to me, you... when i catch you, i'm going to pull out your eyes and shove 'em up your diaper, get out there, and be the best damn barney you can be.\n",
      "barney_gumble: here i come world!\n",
      "homer_simpson: how do you think he'll do, moe?\n",
      "moe_szyslak:(proudly) youuu got that right, my friend!\n",
      "moe_szyslak: so, i round the corner and head down the ointment aisle, when who should i spot? none other than kent brockman!\n",
      "lenny_leonard:(impressed) the car seat the truck with me.\n",
      "seymour_skinner: the be sharps.\n",
      "barney_gumble: the be sharps.\n",
      "chief_wiggum: the be sharps.(nervous chuckle)\n",
      "chief_wiggum:(nervous chuckle) well, can't blame a guy for trying.(nervous chuckle)\n",
      "homer_simpson: skoal!(sips) wait a minute-- this is duff!\n",
      "moe_szyslak:(nasty laugh) ah\n"
     ]
    }
   ],
   "source": [
    "gen_length = 200\n",
    "# homer_simpson, moe_szyslak, or Barney_Gumble\n",
    "prime_word = 'moe_szyslak'\n",
    "\n",
    "\"\"\"\n",
    "DON'T MODIFY ANYTHING IN THIS CELL THAT IS BELOW THIS LINE\n",
    "\"\"\"\n",
    "loaded_graph = tf.Graph()\n",
    "with tf.Session(graph=loaded_graph) as sess:\n",
    "    # Load saved model\n",
    "    loader = tf.train.import_meta_graph(load_dir + '.meta')\n",
    "    loader.restore(sess, load_dir)\n",
    "\n",
    "    # Get Tensors from loaded model\n",
    "    input_text, initial_state, final_state, probs = get_tensors(loaded_graph)\n",
    "\n",
    "    # Sentences generation setup\n",
    "    gen_sentences = [prime_word + ':']\n",
    "    prev_state = sess.run(initial_state, {input_text: np.array([[1]])})\n",
    "\n",
    "    # Generate sentences\n",
    "    for n in range(gen_length):\n",
    "        # Dynamic Input\n",
    "        dyn_input = [[vocab_to_int[word] for word in gen_sentences[-seq_length:]]]\n",
    "        dyn_seq_length = len(dyn_input[0])\n",
    "\n",
    "        # Get Prediction\n",
    "        probabilities, prev_state = sess.run(\n",
    "            [probs, final_state],\n",
    "            {input_text: dyn_input, initial_state: prev_state})\n",
    "        \n",
    "        pred_word = pick_word(probabilities[dyn_seq_length-1], int_to_vocab)\n",
    "\n",
    "        gen_sentences.append(pred_word)\n",
    "    \n",
    "    # Remove tokens\n",
    "    tv_script = ' '.join(gen_sentences)\n",
    "    for key, token in token_dict.items():\n",
    "        ending = ' ' if key in ['\\n', '(', '\"'] else ''\n",
    "        tv_script = tv_script.replace(' ' + token.lower(), key)\n",
    "    tv_script = tv_script.replace('\\n ', '\\n')\n",
    "    tv_script = tv_script.replace('( ', '(')\n",
    "        \n",
    "    print(tv_script)"
   ]
  },
  {
   "cell_type": "markdown",
   "metadata": {
    "deletable": true,
    "editable": true
   },
   "source": [
    "# The TV Script is Nonsensical\n",
    "It's ok if the TV script doesn't make any sense.  We trained on less than a megabyte of text.  In order to get good results, you'll have to use a smaller vocabulary or get more data.  Luckly there's more data!  As we mentioned in the begging of this project, this is a subset of [another dataset](https://www.kaggle.com/wcukierski/the-simpsons-by-the-data).  We didn't have you train on all the data, because that would take too long.  However, you are free to train your neural network on all the data.  After you complete the project, of course.\n",
    "# Submitting This Project\n",
    "When submitting this project, make sure to run all the cells before saving the notebook. Save the notebook file as \"dlnd_tv_script_generation.ipynb\" and save it as a HTML file under \"File\" -> \"Download as\". Include the \"helper.py\" and \"problem_unittests.py\" files in your submission."
   ]
  }
 ],
 "metadata": {
  "kernelspec": {
   "display_name": "Python 3",
   "language": "python",
   "name": "python3"
  },
  "language_info": {
   "codemirror_mode": {
    "name": "ipython",
    "version": 3
   },
   "file_extension": ".py",
   "mimetype": "text/x-python",
   "name": "python",
   "nbconvert_exporter": "python",
   "pygments_lexer": "ipython3",
   "version": "3.5.2"
  },
  "widgets": {
   "state": {},
   "version": "1.1.2"
  }
 },
 "nbformat": 4,
 "nbformat_minor": 1
}
